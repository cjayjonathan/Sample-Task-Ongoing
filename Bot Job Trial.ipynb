{
 "cells": [
  {
   "cell_type": "code",
   "execution_count": 2,
   "id": "3bec4024",
   "metadata": {},
   "outputs": [
    {
     "name": "stdout",
     "output_type": "stream",
     "text": [
      "Requirement already satisfied: python-telegram-bot in c:\\programdata\\anaconda3\\lib\\site-packages (13.11)\n",
      "Requirement already satisfied: pytz>=2018.6 in c:\\programdata\\anaconda3\\lib\\site-packages (from python-telegram-bot) (2021.3)\n",
      "Requirement already satisfied: tornado>=6.1 in c:\\programdata\\anaconda3\\lib\\site-packages (from python-telegram-bot) (6.1)\n",
      "Requirement already satisfied: cachetools==4.2.2 in c:\\programdata\\anaconda3\\lib\\site-packages (from python-telegram-bot) (4.2.2)\n",
      "Requirement already satisfied: certifi in c:\\programdata\\anaconda3\\lib\\site-packages (from python-telegram-bot) (2021.10.8)\n",
      "Requirement already satisfied: APScheduler==3.6.3 in c:\\programdata\\anaconda3\\lib\\site-packages (from python-telegram-bot) (3.6.3)\n",
      "Requirement already satisfied: six>=1.4.0 in c:\\programdata\\anaconda3\\lib\\site-packages (from APScheduler==3.6.3->python-telegram-bot) (1.16.0)\n",
      "Requirement already satisfied: setuptools>=0.7 in c:\\programdata\\anaconda3\\lib\\site-packages (from APScheduler==3.6.3->python-telegram-bot) (58.0.4)\n",
      "Requirement already satisfied: tzlocal>=1.2 in c:\\programdata\\anaconda3\\lib\\site-packages (from APScheduler==3.6.3->python-telegram-bot) (4.2)\n",
      "Requirement already satisfied: tzdata in c:\\programdata\\anaconda3\\lib\\site-packages (from tzlocal>=1.2->APScheduler==3.6.3->python-telegram-bot) (2022.1)\n",
      "Requirement already satisfied: pytz-deprecation-shim in c:\\programdata\\anaconda3\\lib\\site-packages (from tzlocal>=1.2->APScheduler==3.6.3->python-telegram-bot) (0.1.0.post0)\n"
     ]
    }
   ],
   "source": [
    "!pip install python-telegram-bot"
   ]
  },
  {
   "cell_type": "code",
   "execution_count": 3,
   "id": "02d7eeba",
   "metadata": {},
   "outputs": [],
   "source": [
    "from telegram.ext.updater import Updater\n",
    "from telegram.update import Update\n",
    "from telegram.ext.callbackcontext import CallbackContext\n",
    "from telegram.ext.commandhandler import CommandHandler\n",
    "from telegram.ext.messagehandler import MessageHandler\n",
    "from telegram.ext.filters import Filters\n"
   ]
  },
  {
   "cell_type": "code",
   "execution_count": 4,
   "id": "8ad4aa93",
   "metadata": {},
   "outputs": [],
   "source": [
    "updater = Updater(\"5212182556:AAGcP-HYMRMgmo7Fkdf7rFuLqzVrU7sssQM\",\n",
    "\t\t\t\tuse_context=True)\n",
    "\n",
    "\n",
    "def start(update: Update, context: CallbackContext):\n",
    "\tupdate.message.reply_text(\n",
    "\t\t\"Data Science Nuggets Bot Here for You\")\n"
   ]
  },
  {
   "cell_type": "code",
   "execution_count": 5,
   "id": "23f15a54",
   "metadata": {},
   "outputs": [],
   "source": [
    "def help(update: Update, context: CallbackContext):\n",
    "\tupdate.message.reply_text(\"I am your Butler\")\n"
   ]
  },
  {
   "cell_type": "code",
   "execution_count": 7,
   "id": "d975b2e0",
   "metadata": {},
   "outputs": [],
   "source": [
    "def naukri_url(update: Update, context: CallbackContext):\n",
    "\tupdate.message.reply_text(\"https://www.naukri.com/data-scientist-jobs-in-india\")\n",
    "\n",
    "\n",
    "def linkedIn_url(update: Update, context: CallbackContext):\n",
    "\tupdate.message.reply_text(\"https://www.linkedin.com/jobs/search/?keywords=data%20scientist\")\n",
    "\n",
    "\n",
    "def glassdoor_url(update: Update, context: CallbackContext):\n",
    "\tupdate.message.reply_text(\"https://www.glassdoor.co.in/Job/india-data-scientist-jobs-SRCH_IL.0,5_IN115_KO6,20.htm\")\n",
    "\n",
    "def datasciencenuggets_url(update: Update, context: CallbackContext):\n",
    "\tupdate.message.reply_text(\"https://nuggetsnetwork.com/blog/Data-Science-Jobs-In-India.html\")\n",
    "\n",
    "\n",
    "def unknown_text(update: Update, context: CallbackContext):\n",
    "\tupdate.message.reply_text(\n",
    "\t\t\"Sorry I can't recognize you , you said '%s'\" % update.message.text)\n",
    "\n",
    "\n",
    "def unknown(update: Update, context: CallbackContext):\n",
    "\tupdate.message.reply_text(\n",
    "\t\t\"Sorry '%s' is not a valid command\" % update.message.text)\n"
   ]
  },
  {
   "cell_type": "code",
   "execution_count": 8,
   "id": "eb3130ba",
   "metadata": {},
   "outputs": [],
   "source": [
    "updater.dispatcher.add_handler(CommandHandler('start', start))\n",
    "updater.dispatcher.add_handler(CommandHandler('naukri', naukri_url))\n",
    "updater.dispatcher.add_handler(CommandHandler('help', help))\n",
    "updater.dispatcher.add_handler(CommandHandler('linkedin', linkedIn_url))\n",
    "updater.dispatcher.add_handler(CommandHandler('glassdoor', glassdoor_url))\n",
    "updater.dispatcher.add_handler(CommandHandler('datasciencenuggets', datasciencenuggets_url))\n",
    "updater.dispatcher.add_handler(MessageHandler(Filters.text, unknown))\n",
    "updater.dispatcher.add_handler(MessageHandler(\n",
    "\t# Filters out unknown commands\n",
    "\tFilters.command, unknown))\n",
    "\n",
    "# Filters out unknown messages.\n",
    "updater.dispatcher.add_handler(MessageHandler(Filters.text, unknown_text))\n"
   ]
  },
  {
   "cell_type": "code",
   "execution_count": 10,
   "id": "3dc389de",
   "metadata": {},
   "outputs": [],
   "source": [
    "updater.start_polling()\n"
   ]
  },
  {
   "cell_type": "code",
   "execution_count": null,
   "id": "63e9d8c5",
   "metadata": {},
   "outputs": [],
   "source": []
  }
 ],
 "metadata": {
  "kernelspec": {
   "display_name": "Python 3 (ipykernel)",
   "language": "python",
   "name": "python3"
  },
  "language_info": {
   "codemirror_mode": {
    "name": "ipython",
    "version": 3
   },
   "file_extension": ".py",
   "mimetype": "text/x-python",
   "name": "python",
   "nbconvert_exporter": "python",
   "pygments_lexer": "ipython3",
   "version": "3.9.7"
  }
 },
 "nbformat": 4,
 "nbformat_minor": 5
}

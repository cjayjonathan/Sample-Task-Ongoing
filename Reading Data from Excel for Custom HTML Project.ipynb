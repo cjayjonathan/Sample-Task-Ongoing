{
 "cells": [
  {
   "cell_type": "code",
   "execution_count": 1,
   "id": "8f14952b",
   "metadata": {},
   "outputs": [],
   "source": [
    "import pandas as pd"
   ]
  },
  {
   "cell_type": "code",
   "execution_count": 2,
   "id": "3ed51da1",
   "metadata": {},
   "outputs": [
    {
     "name": "stdout",
     "output_type": "stream",
     "text": [
      "                                            Job Title  \\\n",
      "0                               Senior Data Scientist   \n",
      "1                               Senior Data Scientist   \n",
      "2                               Senior Data Scientist   \n",
      "3                  Senior Data Scientist and Engineer   \n",
      "4   Data Analyst/ Data Scientist Data Analytics & ...   \n",
      "5                                Staff Data Scientist   \n",
      "6                                      Data Scientist   \n",
      "7                                  Sr. Data Scientist   \n",
      "8                                    Data Scientist 2   \n",
      "9                                 Lead Data Scientist   \n",
      "10                              Senior Data Scientist   \n",
      "11                                     Data Scientist   \n",
      "12                                     Data Scientist   \n",
      "13                           Associate Data Scientist   \n",
      "\n",
      "                              Company  \\\n",
      "0                             Philips   \n",
      "1                                 GSK   \n",
      "2                Thales India Pvt Ltd   \n",
      "3                            Sportism   \n",
      "4    SGS Global Services Pvt. Limited   \n",
      "5                             Walmart   \n",
      "6                             Walmart   \n",
      "7                 Silicon Valley Bank   \n",
      "8                              Paypal   \n",
      "9          Thoucentric Technology Ltd   \n",
      "10                           Flipkart   \n",
      "11  Medi Assist Insurance TPA Pvt Ltd   \n",
      "12  Medi Assist Insurance TPA Pvt Ltd   \n",
      "13                    Experion Global   \n",
      "\n",
      "                                             Location  \\\n",
      "0                                 Bangalore/Bengaluru   \n",
      "1                                 Bangalore/Bengaluru   \n",
      "2                                    Gurgaon/Gurugram   \n",
      "3                                             Chennai   \n",
      "4                                      Sector-2 Noida   \n",
      "5                                 Bangalore/Bengaluru   \n",
      "6                                 Bangalore/Bengaluru   \n",
      "7                                 Bangalore/Bengaluru   \n",
      "8                                 Bangalore/Bengaluru   \n",
      "9   Bangalore/Bengaluru (Mahadevpura, Bellandur, H...   \n",
      "10                                Bangalore/Bengalaru   \n",
      "11                                Bangalore/Bengalaru   \n",
      "12                                Bangalore/Bengalaru   \n",
      "13  Kochi/Cochin, Bangalore/Bengalaru, Trivandrum-...   \n",
      "\n",
      "                                              Job URL  \n",
      "0   https://www.naukri.com/job-listings-senior-dat...  \n",
      "1   https://gsk.wd5.myworkdayjobs.com/en-US/GSKCar...  \n",
      "2   https://thales.wd3.myworkdayjobs.com/en-US/Car...  \n",
      "3   https://www.naukri.com/job-listings-sr-data-sc...  \n",
      "4   https://www.naukri.com/job-listings-data-analy...  \n",
      "5   https://walmart.cluster3.openings.co/#!/job-vi...  \n",
      "6   https://walmart.cluster3.openings.co/#!/job-vi...  \n",
      "7   https://svb.wd5.myworkdayjobs.com/en-US/svbank...  \n",
      "8   https://jobsearch.paypal-corp.com/en-US/job/jo...  \n",
      "9   https://www.naukri.com/job-listings-lead-data-...  \n",
      "10  https://www.flipkartcareers.com/#!/job-view/se...  \n",
      "11  https://www.naukri.com/job-listings-data-scien...  \n",
      "12  https://www.naukri.com/job-listings-data-scien...  \n",
      "13  https://www.naukri.com/job-listings-associate-...  \n"
     ]
    }
   ],
   "source": [
    "df = pd.read_excel(r'C:\\seleniumdrivers\\Dat Science Jobs.xlsx')\n",
    "print(df)"
   ]
  },
  {
   "cell_type": "code",
   "execution_count": null,
   "id": "6d7132c8",
   "metadata": {},
   "outputs": [],
   "source": []
  }
 ],
 "metadata": {
  "kernelspec": {
   "display_name": "Python 3 (ipykernel)",
   "language": "python",
   "name": "python3"
  },
  "language_info": {
   "codemirror_mode": {
    "name": "ipython",
    "version": 3
   },
   "file_extension": ".py",
   "mimetype": "text/x-python",
   "name": "python",
   "nbconvert_exporter": "python",
   "pygments_lexer": "ipython3",
   "version": "3.9.7"
  }
 },
 "nbformat": 4,
 "nbformat_minor": 5
}

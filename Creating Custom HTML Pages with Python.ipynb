{
 "cells": [
  {
   "cell_type": "code",
   "execution_count": 21,
   "id": "ebc0c7e2",
   "metadata": {},
   "outputs": [
    {
     "name": "stdout",
     "output_type": "stream",
     "text": [
      "Requirement already satisfied: openpyxl in c:\\programdata\\anaconda3\\lib\\site-packages (3.0.9)\n",
      "Requirement already satisfied: et-xmlfile in c:\\programdata\\anaconda3\\lib\\site-packages (from openpyxl) (1.1.0)\n",
      "Note: you may need to restart the kernel to use updated packages.\n"
     ]
    }
   ],
   "source": [
    "pip install openpyxl"
   ]
  },
  {
   "cell_type": "code",
   "execution_count": 18,
   "id": "475323bf",
   "metadata": {},
   "outputs": [
    {
     "ename": "SyntaxError",
     "evalue": "invalid syntax (Temp/ipykernel_3404/1730766021.py, line 4)",
     "output_type": "error",
     "traceback": [
      "\u001b[1;36m  File \u001b[1;32m\"C:\\Users\\ALH~1.YAH\\AppData\\Local\\Temp/ipykernel_3404/1730766021.py\"\u001b[1;36m, line \u001b[1;32m4\u001b[0m\n\u001b[1;33m    print table()\u001b[0m\n\u001b[1;37m          ^\u001b[0m\n\u001b[1;31mSyntaxError\u001b[0m\u001b[1;31m:\u001b[0m invalid syntax\n"
     ]
    }
   ],
   "source": [
    "import xlrd\n",
    "book = xlrd.open_workbook(\"C:\\seleniumdrivers\\Data Science Jobs.x"
   ]
  },
  {
   "cell_type": "code",
   "execution_count": 31,
   "id": "becc3f85",
   "metadata": {},
   "outputs": [],
   "source": [
    "path = \"C:\\seleniumdrivers\\Data Science Jobs.xls\" "
   ]
  },
  {
   "cell_type": "code",
   "execution_count": 24,
   "id": "a70f3ab2",
   "metadata": {},
   "outputs": [],
   "source": [
    "# Importing openpyxl module\n",
    "import openpyxl"
   ]
  },
  {
   "cell_type": "code",
   "execution_count": 25,
   "id": "9d6f86e1",
   "metadata": {},
   "outputs": [],
   "source": [
    "# Location of the file\n",
    "path = \"C:\\seleniumdrivers\\Dat Science Jobs.xlsx\" "
   ]
  },
  {
   "cell_type": "code",
   "execution_count": 26,
   "id": "2995a8ac",
   "metadata": {},
   "outputs": [],
   "source": [
    "# Workbook object is created to open the workbook\n",
    "wb_obj = openpyxl.load_workbook(path)"
   ]
  },
  {
   "cell_type": "code",
   "execution_count": 27,
   "id": "7795e6a5",
   "metadata": {},
   "outputs": [],
   "source": [
    "# Getting the workbook active sheet object and workbook object is created\n",
    "sheet_obj = wb_obj.active"
   ]
  },
  {
   "cell_type": "code",
   "execution_count": 28,
   "id": "3cf44479",
   "metadata": {},
   "outputs": [],
   "source": [
    "# Cell object is created by the use of the sheet object method\n",
    "cell_obj = sheet_obj['A1' : 'B15']"
   ]
  },
  {
   "cell_type": "code",
   "execution_count": 29,
   "id": "2ff7ebf7",
   "metadata": {},
   "outputs": [
    {
     "name": "stdout",
     "output_type": "stream",
     "text": [
      "Job Title Company\n",
      "Senior Data Scientist Philips\n",
      "Senior Data Scientist GSK\n",
      "Senior Data Scientist Thales India Pvt Ltd\n",
      "Senior Data Scientist and Engineer Sportism\n",
      "Data Analyst/ Data Scientist Data Analytics & Visualizations SGS Global Services Pvt. Limited\n",
      "Staff Data Scientist Walmart\n",
      "Data Scientist Walmart\n",
      "Sr. Data Scientist Silicon Valley Bank\n",
      "Data Scientist 2 Paypal\n",
      "Lead Data Scientist Thoucentric Technology Ltd\n",
      "Senior Data Scientist Flipkart\n",
      "Data Scientist Medi Assist Insurance TPA Pvt Ltd\n",
      "Data Scientist Medi Assist Insurance TPA Pvt Ltd\n",
      "Associate Data Scientist Experion Global\n"
     ]
    }
   ],
   "source": [
    "# Printing the value of the cell object by using the value attribute\n",
    "for cell1, cell2 in cell_obj:\n",
    "    print(cell1.value, cell2.value)"
   ]
  },
  {
   "cell_type": "code",
   "execution_count": 33,
   "id": "1dc70c3f",
   "metadata": {},
   "outputs": [],
   "source": [
    "# Getting workbook active object from the active attribute\n",
    "sheet_obj = wb_obj.active"
   ]
  },
  {
   "cell_type": "code",
   "execution_count": 35,
   "id": "0e694515",
   "metadata": {},
   "outputs": [],
   "source": [
    "# Getting the value of maximum rows and columns\n",
    "row = sheet_obj.max_row\n",
    "column = sheet_obj.max_column"
   ]
  },
  {
   "cell_type": "code",
   "execution_count": 36,
   "id": "da55915a",
   "metadata": {},
   "outputs": [
    {
     "name": "stdout",
     "output_type": "stream",
     "text": [
      "\n",
      "Value of second column\n",
      "Philips\n",
      "GSK\n",
      "Thales India Pvt Ltd\n",
      "Sportism\n",
      "SGS Global Services Pvt. Limited\n",
      "Walmart\n",
      "Walmart\n",
      "Silicon Valley Bank\n",
      "Paypal\n",
      "Thoucentric Technology Ltd\n",
      "Flipkart\n",
      "Medi Assist Insurance TPA Pvt Ltd\n",
      "Medi Assist Insurance TPA Pvt Ltd\n",
      "Experion Global\n",
      "None\n"
     ]
    }
   ],
   "source": [
    "print(\"\\nValue of second column\")\n",
    "for i in range(2, row + 2):\n",
    "    cell_obj = sheet_obj.cell(row = i, column = 2)\n",
    "    print(cell_obj.value)\n"
   ]
  },
  {
   "cell_type": "code",
   "execution_count": 37,
   "id": "cf64d730",
   "metadata": {},
   "outputs": [
    {
     "name": "stdout",
     "output_type": "stream",
     "text": [
      "\n",
      "Value of second column\n",
      "Bangalore/Bengaluru\n",
      "Gurgaon/Gurugram\n",
      "Chennai\n",
      "Sector-2 Noida\n",
      "Bangalore/Bengaluru\n",
      "Bangalore/Bengaluru\n",
      "Bangalore/Bengaluru\n",
      "Bangalore/Bengaluru\n",
      "Bangalore/Bengaluru (Mahadevpura, Bellandur, HSR Layout )\n",
      "Bangalore/Bengalaru\n",
      "Bangalore/Bengalaru\n",
      "Bangalore/Bengalaru\n",
      "Kochi/Cochin, Bangalore/Bengalaru, Trivandrum-Thiruvananthapuram\n",
      "None\n",
      "None\n"
     ]
    }
   ],
   "source": [
    "print(\"\\nValue of second column\")\n",
    "for i in range(3, row + 3):\n",
    "    cell_obj = sheet_obj.cell(row = i, column = 3)\n",
    "    print(cell_obj.value)\n"
   ]
  },
  {
   "cell_type": "code",
   "execution_count": 38,
   "id": "ea301c75",
   "metadata": {},
   "outputs": [
    {
     "name": "stdout",
     "output_type": "stream",
     "text": [
      "\n",
      "Value of second column\n",
      "https://thales.wd3.myworkdayjobs.com/en-US/Careers/job/Haryana---Gurgaon/Sr-Data-Scientist_R0149714\n",
      "https://www.naukri.com/job-listings-sr-data-scientist-and-engineer-sportism-chennai-5-to-10-years-200422902105?src=jobsearchDesk&sid=16506418562407564&xp=5&px=1\n",
      "https://www.naukri.com/job-listings-data-analyst-data-scientist-data-analytics-visualizations-sgs-global-services-private-limited-noida-2-to-4-years-210422005011?src=jobsearchDesk&sid=16506418562407564&xp=6&px=1\n",
      "https://walmart.cluster3.openings.co/#!/job-view/staff-data-scientist-bengaluru-karnataka-india-2022030312412144\n",
      "https://walmart.cluster3.openings.co/#!/job-view/data-scientist-bengaluru-karnataka-india-2022040510244826\n",
      "https://svb.wd5.myworkdayjobs.com/en-US/svbank/job/Bangalore-India/Sr-Data-Scientist_16877-1\n",
      "https://jobsearch.paypal-corp.com/en-US/job/job-details/J3T78N68LF2C2HM2BQK\n",
      "https://www.naukri.com/job-listings-lead-data-scientist-thoucentric-technology-pvt-ltd-bangalore-bengaluru-6-to-10-years-200422005991?src=jobsearchDesk&sid=16506418562407564&xp=11&px=1\n",
      "https://www.flipkartcareers.com/#!/job-view/senior-data-scientist-bangalore-karnataka-2022041212000524\n",
      "https://www.naukri.com/job-listings-data-scientist-medi-assist-insurance-tpa-pvt-ltd-bangalore-bengaluru-1-to-5-years-200422003464?src=jobsearchDesk&sid=16506418562407564&xp=14&px=1\n",
      "https://www.naukri.com/job-listings-data-scientist-medi-assist-insurance-tpa-pvt-ltd-bangalore-bengaluru-1-to-5-years-200422603466?src=jobsearchDesk&sid=16506418562407564&xp=13&px=1\n",
      "https://www.naukri.com/job-listings-associate-data-scientist-experionglobal-kochi-cochin-bangalore-bengaluru-trivandrum-thiruvananthapuram-5-to-10-years-210422500873?src=jobsearchDesk&sid=16506418562407564&xp=15&px=1\n",
      "None\n",
      "None\n",
      "None\n"
     ]
    }
   ],
   "source": [
    "print(\"\\nValue of second column\")\n",
    "for i in range(4, row + 4):\n",
    "    cell_obj = sheet_obj.cell(row = i, column = 4)\n",
    "    print(cell_obj.value)"
   ]
  },
  {
   "cell_type": "code",
   "execution_count": null,
   "id": "63d9fc7d",
   "metadata": {},
   "outputs": [],
   "source": []
  }
 ],
 "metadata": {
  "kernelspec": {
   "display_name": "Python 3 (ipykernel)",
   "language": "python",
   "name": "python3"
  },
  "language_info": {
   "codemirror_mode": {
    "name": "ipython",
    "version": 3
   },
   "file_extension": ".py",
   "mimetype": "text/x-python",
   "name": "python",
   "nbconvert_exporter": "python",
   "pygments_lexer": "ipython3",
   "version": "3.9.7"
  }
 },
 "nbformat": 4,
 "nbformat_minor": 5
}
